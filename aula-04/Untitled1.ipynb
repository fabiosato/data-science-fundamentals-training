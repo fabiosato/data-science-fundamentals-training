{
 "cells": [
  {
   "cell_type": "code",
   "execution_count": 1,
   "metadata": {},
   "outputs": [],
   "source": [
    "from sklearn.datasets import fetch_mldata"
   ]
  },
  {
   "cell_type": "code",
   "execution_count": 2,
   "metadata": {},
   "outputs": [],
   "source": [
    "import matplotlib.pyplot as plt"
   ]
  },
  {
   "cell_type": "code",
   "execution_count": 3,
   "metadata": {},
   "outputs": [],
   "source": [
    "mnist = fetch_mldata('MNIST Original')"
   ]
  },
  {
   "cell_type": "code",
   "execution_count": 26,
   "metadata": {},
   "outputs": [],
   "source": [
    "from sklearn.decomposition import PCA"
   ]
  },
  {
   "cell_type": "code",
   "execution_count": 27,
   "metadata": {},
   "outputs": [],
   "source": [
    "from sklearn.neighbors import KNeighborsClassifier"
   ]
  },
  {
   "cell_type": "code",
   "execution_count": 28,
   "metadata": {},
   "outputs": [],
   "source": [
    "knn = KNeighborsClassifier(n_neighbors=3, n_jobs=4)"
   ]
  },
  {
   "cell_type": "code",
   "execution_count": 83,
   "metadata": {},
   "outputs": [],
   "source": [
    "pca = PCA(n_components=200)"
   ]
  },
  {
   "cell_type": "code",
   "execution_count": 84,
   "metadata": {},
   "outputs": [],
   "source": [
    "X_transformed = pca.fit_transform(mnist.data)"
   ]
  },
  {
   "cell_type": "code",
   "execution_count": 55,
   "metadata": {},
   "outputs": [
    {
     "data": {
      "text/plain": [
       "KNeighborsClassifier(algorithm='auto', leaf_size=30, metric='minkowski',\n",
       "           metric_params=None, n_jobs=4, n_neighbors=3, p=2,\n",
       "           weights='uniform')"
      ]
     },
     "execution_count": 55,
     "metadata": {},
     "output_type": "execute_result"
    }
   ],
   "source": [
    "knn.fit(X_transformed, mnist.target)"
   ]
  },
  {
   "cell_type": "code",
   "execution_count": 56,
   "metadata": {},
   "outputs": [],
   "source": [
    "y_pred = knn.predict(X_transformed)"
   ]
  },
  {
   "cell_type": "code",
   "execution_count": 57,
   "metadata": {},
   "outputs": [],
   "source": [
    "from sklearn.metrics import confusion_matrix, accuracy_score"
   ]
  },
  {
   "cell_type": "code",
   "execution_count": 58,
   "metadata": {},
   "outputs": [
    {
     "data": {
      "text/plain": [
       "array([[6881,    3,    4,    1,    0,    4,    7,    1,    1,    1],\n",
       "       [   0, 7851,    8,    2,    1,    0,    3,    8,    2,    2],\n",
       "       [  14,    6, 6933,    5,    0,    0,    1,   25,    3,    3],\n",
       "       [   4,    6,   31, 7022,    0,   23,    0,   16,   29,   10],\n",
       "       [   3,   15,    3,    0, 6744,    0,    6,    6,    1,   46],\n",
       "       [   7,    2,    4,   24,    5, 6224,   31,    3,    3,   10],\n",
       "       [  11,    5,    0,    0,    4,    7, 6848,    0,    1,    0],\n",
       "       [   1,   25,   17,    1,    4,    0,    0, 7213,    0,   32],\n",
       "       [  10,   19,   11,   23,   12,   22,   10,    8, 6692,   18],\n",
       "       [  12,    6,    3,   19,   32,    9,    1,   20,    5, 6851]])"
      ]
     },
     "execution_count": 58,
     "metadata": {},
     "output_type": "execute_result"
    }
   ],
   "source": [
    "confusion_matrix(mnist.target, y_pred)"
   ]
  },
  {
   "cell_type": "code",
   "execution_count": 59,
   "metadata": {},
   "outputs": [
    {
     "data": {
      "text/plain": [
       "0.98941428571428569"
      ]
     },
     "execution_count": 59,
     "metadata": {},
     "output_type": "execute_result"
    }
   ],
   "source": [
    "accuracy_score(mnist.target, y_pred)"
   ]
  },
  {
   "cell_type": "code",
   "execution_count": 61,
   "metadata": {},
   "outputs": [],
   "source": [
    "import matplotlib.pyplot as plt"
   ]
  },
  {
   "cell_type": "code",
   "execution_count": 70,
   "metadata": {},
   "outputs": [
    {
     "data": {
      "text/plain": [
       "array([ 0.09746116,  0.07155445,  0.06149531,  0.05403385,  0.04888934,\n",
       "        0.04305227,  0.03278262,  0.02889642,  0.02758364,  0.0234214 ,\n",
       "        0.02106689,  0.02037553,  0.01707064,  0.0169402 ,  0.01583382,\n",
       "        0.01486345,  0.01319358,  0.01279014,  0.01187272,  0.01152937,\n",
       "        0.0106604 ,  0.01009794,  0.00959151,  0.00909635,  0.00883287,\n",
       "        0.00838818,  0.00809832,  0.00785718,  0.00740262,  0.00690014,\n",
       "        0.00656139,  0.00645467,  0.00600785,  0.0058559 ,  0.00566741,\n",
       "        0.00543454,  0.00504695,  0.00487003,  0.00478816,  0.00467066,\n",
       "        0.00452424,  0.00444442])"
      ]
     },
     "execution_count": 70,
     "metadata": {},
     "output_type": "execute_result"
    }
   ],
   "source": [
    "pca.explained_variance_ratio_"
   ]
  },
  {
   "cell_type": "code",
   "execution_count": 86,
   "metadata": {},
   "outputs": [
    {
     "data": {
      "text/plain": [
       "[<matplotlib.lines.Line2D at 0x163e53f98>]"
      ]
     },
     "execution_count": 86,
     "metadata": {},
     "output_type": "execute_result"
    }
   ],
   "source": [
    "plt.plot(pca.explained_variance_ratio_)"
   ]
  },
  {
   "cell_type": "code",
   "execution_count": 87,
   "metadata": {},
   "outputs": [
    {
     "data": {
      "image/png": "[encoded data removed]",
      "text/plain": [
       "<matplotlib.figure.Figure at 0x163ac3470>"
      ]
     },
     "metadata": {},
     "output_type": "display_data"
    }
   ],
   "source": [
    "plt.show()"
   ]
  },
  {
   "cell_type": "code",
   "execution_count": 85,
   "metadata": {},
   "outputs": [
    {
     "data": {
      "text/plain": [
       "array([ 0.09746116,  0.16901561,  0.23051091,  0.28454476,  0.3334341 ,\n",
       "        0.37648637,  0.40926898,  0.4381654 ,  0.46574904,  0.48917044,\n",
       "        0.51023733,  0.53061286,  0.5476835 ,  0.5646237 ,  0.58045752,\n",
       "        0.59532097,  0.60851456,  0.6213047 ,  0.63317742,  0.64470679,\n",
       "        0.65536719,  0.66546513,  0.67505665,  0.684153  ,  0.69298586,\n",
       "        0.70137405,  0.70947236,  0.71732954,  0.72473217,  0.73163231,\n",
       "        0.73819375,  0.74464845,  0.75065664,  0.75651276,  0.7621803 ,\n",
       "        0.767615  ,  0.77266217,  0.77753297,  0.78232252,  0.78699846,\n",
       "        0.79154214,  0.79599132,  0.80017349,  0.80413513,  0.8079722 ,\n",
       "        0.81173005,  0.81534432,  0.81883456,  0.82222188,  0.82541884,\n",
       "        0.82858738,  0.83168883,  0.83465363,  0.83752465,  0.84034978,\n",
       "        0.84304401,  0.84572793,  0.84829303,  0.85082471,  0.85327119,\n",
       "        0.85566821,  0.85805402,  0.86034636,  0.86255585,  0.86468645,\n",
       "        0.86674963,  0.86877744,  0.87072779,  0.8726425 ,  0.87452799,\n",
       "        0.87639775,  0.8781988 ,  0.87996667,  0.88170025,  0.88334875,\n",
       "        0.88498112,  0.8865952 ,  0.88813824,  0.88960844,  0.89103044,\n",
       "        0.8924406 ,  0.89384206,  0.89523811,  0.89658835,  0.89791207,\n",
       "        0.899231  ,  0.90052297,  0.90177469,  0.90299998,  0.90420417,\n",
       "        0.9053678 ,  0.90651099,  0.90763646,  0.90873507,  0.9098185 ,\n",
       "        0.91089025,  0.91192717,  0.91296135,  0.91396726,  0.91496658,\n",
       "        0.91594331,  0.91688492,  0.91782074,  0.9187324 ,  0.91963313,\n",
       "        0.92052262,  0.9213842 ,  0.92223674,  0.92307772,  0.92389493,\n",
       "        0.92468094,  0.92545842,  0.92623421,  0.92699894,  0.92775948,\n",
       "        0.92850823,  0.92923845,  0.92996378,  0.93067956,  0.93138293,\n",
       "        0.93207462,  0.9327615 ,  0.93344084,  0.93411254,  0.93477365,\n",
       "        0.93541624,  0.93604885,  0.93667718,  0.93729664,  0.93789788,\n",
       "        0.93849799,  0.9390917 ,  0.93967751,  0.94026076,  0.94083931,\n",
       "        0.94141186,  0.94197506,  0.94252715,  0.94306217,  0.94358745,\n",
       "        0.94410969,  0.94461904,  0.94512068,  0.94561804,  0.94611325,\n",
       "        0.94660479,  0.9470879 ,  0.94756774,  0.94803795,  0.94850418,\n",
       "        0.94896743,  0.94942807,  0.94988548,  0.95033365,  0.95077936,\n",
       "        0.95121857,  0.95165533,  0.95207947,  0.95249859,  0.95291362,\n",
       "        0.95332449,  0.95372803,  0.95412266,  0.95451385,  0.95490232,\n",
       "        0.95528821,  0.95566886,  0.95604418,  0.95641674,  0.95678517,\n",
       "        0.95714944,  0.95751018,  0.95786736,  0.95821958,  0.95856811,\n",
       "        0.95891323,  0.9592534 ,  0.95959064,  0.95992535,  0.96025541,\n",
       "        0.96058061,  0.96090136,  0.96122023,  0.96153571,  0.96184996,\n",
       "        0.96215979,  0.96246613,  0.96277063,  0.96306833,  0.96336472,\n",
       "        0.96365753,  0.96394952,  0.9642399 ,  0.96452486,  0.96480583,\n",
       "        0.96508647,  0.96536566,  0.96563624,  0.96590336,  0.96616555])"
      ]
     },
     "execution_count": 85,
     "metadata": {},
     "output_type": "execute_result"
    }
   ],
   "source": [
    "pca.explained_variance_ratio_.cumsum()"
   ]
  },
  {
   "cell_type": "code",
   "execution_count": null,
   "metadata": {},
   "outputs": [],
   "source": []
  }
 ],
 "metadata": {
  "kernelspec": {
   "display_name": "Python 3",
   "language": "python",
   "name": "python3"
  },
  "language_info": {
   "codemirror_mode": {
    "name": "ipython",
    "version": 3
   },
   "file_extension": ".py",
   "mimetype": "text/x-python",
   "name": "python",
   "nbconvert_exporter": "python",
   "pygments_lexer": "ipython3",
   "version": "3.6.0"
  }
 },
 "nbformat": 4,
 "nbformat_minor": 2
}
