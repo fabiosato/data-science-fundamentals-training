{
 "cells": [
  {
   "cell_type": "markdown",
   "metadata": {
    "slideshow": {
     "slide_type": "slide"
    }
   },
   "source": [
    "# Fundamentos em Data Science\n",
    "\n",
    "## Redes Neurais Artificiais\n",
    "\n",
    "Fábio Sato <fabiosato@gmail.com>"
   ]
  },
  {
   "cell_type": "markdown",
   "metadata": {
    "slideshow": {
     "slide_type": "slide"
    }
   },
   "source": [
    "# Redes Neurais Artificiais (ANN) - Introdução\n",
    "\n",
    "Inspiração no cérebro humano para a construção de algoritmos inteligentes\n",
    "\n",
    "Algoritmos versáteis, poderosos e escaláveis que podem lidar com tarefas complexas de aprendizado de máquina\n",
    "\n",
    "Base para o Aprendizado Profundo (*Deep Learning*):\n",
    "- Classificação de imagens (Google Image)\n",
    "- Reconhecimento de fala (Siri)\n",
    "- Recomendação de vídeos (Youtube e Netflix)\n",
    "\n",
    "\n",
    "\n",
    "\n"
   ]
  },
  {
   "cell_type": "markdown",
   "metadata": {
    "slideshow": {
     "slide_type": "slide"
    }
   },
   "source": [
    "# Neurônios Biológicos\n",
    "\n",
    "Composto por um corpo celular contendo o núcleo, ramificações (dendritos) e uma longa extensão denominada axônio.\n",
    "\n",
    "O axônio apresenta ramificações em suas extremidades que possuem pequenas estruturas denominadas terminais sinápticos (sinapses) que estão conectadas aos dendritos de outros neurônios.\n",
    "\n",
    "Recebem curtos impulsos elétricos (sinais) de outros neurôrios através das sinapses."
   ]
  },
  {
   "cell_type": "markdown",
   "metadata": {
    "slideshow": {
     "slide_type": "slide"
    }
   },
   "source": [
    "# Neurônios Biológicos\n",
    "\n",
    "![Neurônio Biológico](figuras/biological-neuron.jpg)"
   ]
  },
  {
   "cell_type": "markdown",
   "metadata": {
    "slideshow": {
     "slide_type": "slide"
    }
   },
   "source": [
    "# Neurônios Biológicos\n",
    "\n",
    "Quando um neurônio recebe um número suficiente de sinais de outros neurônios dentro \n",
    "de alguns milisegundos ele dispara seu próprio sinal.\n",
    "\n",
    "Neurônios individuais se comportam de forma bastante simples, mas estão organizados em uma vasta rede de bilhões de neurônios, onde cada neurônio está conectado a milhares de outros neurônios.\n",
    "\n",
    "\"Cálculos\" altamente complexos podem ser realizados por uma vasta rede de simples neurônios.\n",
    "\n"
   ]
  },
  {
   "cell_type": "markdown",
   "metadata": {
    "slideshow": {
     "slide_type": "slide"
    }
   },
   "source": [
    "# Neurônios Biológicos\n",
    "\n",
    "![Biological Neurons Layers](figuras/biological-neurons-layers.png)"
   ]
  },
  {
   "cell_type": "markdown",
   "metadata": {
    "slideshow": {
     "slide_type": "slide"
    }
   },
   "source": [
    "# ANN - Histórico\n",
    "\n",
    "## 1943 - McCulloch e Pitts\n",
    "\n",
    "*A Logical Calculus of Ideas Immanent in Nervous Activity*: Primeira arquitetura de redes neurais artificiais.\n",
    "\n",
    "Modelo computacional simplificado de como neurônios biológicos podem trabalhar em conjunto para realizar operações complexas.\n",
    "\n",
    "Uma ou mais entradas binárias (ligado/desligado) e uma saída binária. Ativação da saída quando mais do que um certo número de entradas estão ativas."
   ]
  },
  {
   "cell_type": "markdown",
   "metadata": {
    "slideshow": {
     "slide_type": "slide"
    }
   },
   "source": [
    "# ANN - Neurônio de McCulloch e Pitts\n",
    "\n",
    "![McCulloch and Pitts Model](figuras/mcculloch-pitts.gif)"
   ]
  },
  {
   "cell_type": "markdown",
   "metadata": {
    "slideshow": {
     "slide_type": "slide"
    }
   },
   "source": [
    "# ANN - Histórico\n",
    "\n",
    "## 1957: Frank Rosenblat\n",
    "\n",
    "Proposta de um neurônio artifical ligeiramente modificado.\n",
    "\n",
    "LTU - *Linear Treshold Unit* - entradas e saídas são números e um peso é associado a cada conexão de entrada.\n",
    "\n",
    "Cálculo da soma ponderada das entradas: $ z = w_1 x_1 + w_2 x_2 + ... + w_n x_n = \\mathbf{w}^T \\cdot \\mathbf{x}$\n",
    "\n",
    "Função de *step* sobre o soma que produz na saída o resultado $h_w(\\mathbf{x}) = step(z)$"
   ]
  },
  {
   "cell_type": "markdown",
   "metadata": {
    "slideshow": {
     "slide_type": "slide"
    }
   },
   "source": [
    "# ANN - LTU\n",
    "\n",
    "![Perceptron](figuras/perceptron.png)"
   ]
  },
  {
   "cell_type": "markdown",
   "metadata": {
    "slideshow": {
     "slide_type": "slide"
    }
   },
   "source": [
    "# LTU - Funções Step\n",
    "\n",
    "\n",
    "$$ heaviside(z) = \n",
    "\\begin{cases}\n",
    "0 & if z \\lt 0 \\\\\n",
    "1 & if z \\ge 0\n",
    "\\end{cases} $$\n",
    "\n",
    "$$ sign(z) = \n",
    "\\begin{cases}\n",
    "-1 & if z \\lt 0 \\\\\n",
    "0  & if z = 0 \\\\\n",
    "+1 & if z \\gt 0\n",
    "\\end{cases}\n",
    "$$"
   ]
  },
  {
   "cell_type": "markdown",
   "metadata": {
    "slideshow": {
     "slide_type": "slide"
    }
   },
   "source": [
    "# Perceptron\n",
    "\n",
    "Combinação linear das entradas: LTU pode ser usado somente para problemas simples de classificação binária linear.\n",
    "\n",
    "Um Perceptron consiste de uma camada simples de LTUs onde cada neurônio está conectado a todas entradas.\n",
    "\n",
    "As conexões de entrada são compostas por neurônios que reproduzem os valores na saída. Um neurônio de viés (*bias*) é geralmente adicionado ($x_0 = 1$) na entrada.\n",
    "\n",
    "Perceptrons não são capazes de aprender padrões complexos. Entretanto, Rosenblat demonstrou que se o problema é linearmente separável o algoritmo irá convergir para uma solução.\n",
    "\n"
   ]
  },
  {
   "cell_type": "markdown",
   "metadata": {
    "slideshow": {
     "slide_type": "slide"
    }
   },
   "source": [
    "# Perceptron - Treinamento\n",
    "\n",
    "Baseado na regra de Hebb: quando um neurônio frequentemente ativa outro a conexão entre eles fica mais forte.\n",
    "\n",
    "Perceptrons são treinados de forma que o erro produzido pela rede seja levado em consideração.\n",
    "\n",
    "Não reforça conexões que conduziram a uma saída errada.\n",
    "\n",
    "Para cada instância de treinamento o erro da rede é determinado e os pesos são atualizados de forma que as conexões de entradas que poderiam ter contribuido para uma saída correta sejam reforçadas."
   ]
  },
  {
   "cell_type": "markdown",
   "metadata": {
    "slideshow": {
     "slide_type": "slide"
    }
   },
   "source": [
    "# Perceptron - Regra de Aprendizado\n",
    "\n",
    "$$ w_{i,j}^{(next step)} = w_{i, j} + \\eta (\\hat{y_i} - y_i)x_i $$\n",
    "\n",
    "- $w_{i,j}$ é o peso da conexão entre o $i$-ésimo neurônio de entrada e o $j$-ésimo neurônio de saída\n",
    "- $x_i$ é o $i$-ésimo valor de entrada da instância de treinamento atual\n",
    "- $\\hat{y_i}$ é a saída do $j$-ésimo neurônio de saída para a instância de treinamento atual\n",
    "- $y_i$ é o valor de saída alvo do $j$-ésimo neurônio de saída para a instância de treinamento atual\n",
    "- $\\eta$ é a taxa de aprendizado"
   ]
  },
  {
   "cell_type": "markdown",
   "metadata": {
    "slideshow": {
     "slide_type": "slide"
    }
   },
   "source": [
    "# Perceptron - Exemplo"
   ]
  },
  {
   "cell_type": "code",
   "execution_count": 2,
   "metadata": {
    "slideshow": {
     "slide_type": "subslide"
    }
   },
   "outputs": [
    {
     "name": "stdout",
     "output_type": "stream",
     "text": [
      "Acurácia: 1.000000\n"
     ]
    },
    {
     "name": "stderr",
     "output_type": "stream",
     "text": [
      "/Users/sato/treinamentos/fundamentos-data-science/env/lib/python3.6/site-packages/sklearn/linear_model/stochastic_gradient.py:128: FutureWarning: max_iter and tol parameters have been added in <class 'sklearn.linear_model.perceptron.Perceptron'> in 0.19. If both are left unset, they default to max_iter=5 and tol=None. If tol is not None, max_iter defaults to max_iter=1000. From 0.21, default max_iter will be 1000, and default tol will be 1e-3.\n",
      "  \"and default tol will be 1e-3.\" % type(self), FutureWarning)\n"
     ]
    }
   ],
   "source": [
    "import numpy as np\n",
    "from sklearn.datasets import load_iris\n",
    "from sklearn.linear_model import Perceptron\n",
    "from sklearn.metrics import accuracy_score\n",
    "\n",
    "iris = load_iris()\n",
    "X = iris.data[:, (2,3)]\n",
    "y = (iris.target == 0).astype(np.int)\n",
    "\n",
    "clf = Perceptron(random_state=1234)\n",
    "clf.fit(X, y)\n",
    "\n",
    "y_pred = clf.predict(X)\n",
    "print(\"Acurácia: %f\" % accuracy_score(y, y_pred))"
   ]
  },
  {
   "cell_type": "code",
   "execution_count": 4,
   "metadata": {},
   "outputs": [
    {
     "data": {
      "image/png": "[encoded data removed]",
      "text/plain": [
       "<matplotlib.figure.Figure at 0x11445aba8>"
      ]
     },
     "metadata": {},
     "output_type": "display_data"
    }
   ],
   "source": [
    "import matplotlib.pyplot as plt\n",
    "from mlxtend.plotting import plot_decision_regions\n",
    "\n",
    "plot_decision_regions(X, y, clf=clf, res=0.01, legend=2)\n",
    "plt.xlabel('petal length (cm)')\n",
    "plt.ylabel('petal width (cm)')\n",
    "plt.title('Perceptron - Classificação Iris Setosa')\n",
    "plt.show()"
   ]
  },
  {
   "cell_type": "markdown",
   "metadata": {
    "slideshow": {
     "slide_type": "slide"
    }
   },
   "source": [
    "# MLP - Multi-Layer Perceptron\n",
    "\n",
    "1969 - Minksy e Papert: limitações do Perceptron (XOR)\n",
    "\n",
    "MLP: algumas das limitações podem ser eliminadas através do empilhamento de múltiplos Perceptrons.\n",
    "\n",
    "Uma MLP é composta por uma ou mais camadas de entrada, um ou mais camadas de LTUs (camadas escondidas), e uma camada final de LTUs chamada de camada de saída.\n",
    "\n",
    "Quando uma ANN possui duas ou mais camadas escondidas é denominada rede neural profunda (DNN - *Deep Neural Network*)\n",
    "\n"
   ]
  },
  {
   "cell_type": "markdown",
   "metadata": {
    "slideshow": {
     "slide_type": "slide"
    }
   },
   "source": [
    "# MLP - Multi-Layer Perceptron\n",
    "\n",
    "![MLP](figuras/mlp-network.png)"
   ]
  },
  {
   "cell_type": "markdown",
   "metadata": {
    "slideshow": {
     "slide_type": "slide"
    }
   },
   "source": [
    "# MLP - Treinamento\n",
    "\n",
    "Por muitos anos um desafio na pesquisa foi encontrar um método para realizar o treinamento de MPLs. Em 1986 Rumelhart et al. publicaram um artigo introduzindo o algoritmo de treinamento *Backpropagation*.\n",
    "\n",
    "Combinação de Gradiente Descendente e Diferenciação Automática (obtenção de derivadas de uma função).\n",
    "\n",
    "Para cada instância o algoritmo alimenta a rede e calcula a saída de cada neurônio. O erro da rede é medido e calcula-se o quanto cada neurônio na última camada escondida contribuiu para o erro."
   ]
  },
  {
   "cell_type": "markdown",
   "metadata": {
    "slideshow": {
     "slide_type": "slide"
    }
   },
   "source": [
    "# MLP - FeedForward e Backpropagation\n",
    "\n",
    "![Feedforward - Backpropagation](figuras/mlp-feedforward-backpropagation.png)"
   ]
  },
  {
   "cell_type": "markdown",
   "metadata": {
    "slideshow": {
     "slide_type": "slide"
    }
   },
   "source": [
    "# MLP - Backpropagation\n",
    "\n",
    "<img src=\"figuras/mlp-backpropagation.jpg\" width=\"65%\">"
   ]
  },
  {
   "cell_type": "markdown",
   "metadata": {
    "slideshow": {
     "slide_type": "slide"
    }
   },
   "source": [
    "# MLP: Funções de Ativação\n",
    "\n",
    "- Para que o algoritmo de backpropagation funcione adequadamente os autores fizeram uma mudança chave na arquitetura da MLP substituindo a função de ativação.\n",
    "\n",
    "- A função de step foi substituída pelo sigmóide. A função de step não é diferenciável, enquanto a função logistic possui uma derivada não-nula em todos os pontos da curva\n",
    "\n",
    "- O algoritmo de backpropagation pode ser utilizado com outras funções deriváveis, para que o algoritmo de Gradiente Descendente possa funcionar em todos os passos do treinamento"
   ]
  },
  {
   "cell_type": "markdown",
   "metadata": {
    "slideshow": {
     "slide_type": "slide"
    }
   },
   "source": [
    "# Funções de Ativação: Sigmóide\n",
    "\n",
    "![Sigmoid](figuras/mlp-sigmoid.png)"
   ]
  },
  {
   "cell_type": "markdown",
   "metadata": {
    "slideshow": {
     "slide_type": "slide"
    }
   },
   "source": [
    "# Funções de Ativação: Tangente Hiperbólico\n",
    "\n",
    "- Também apresenta uma curva em forma de como o sigmóide;\n",
    "- Faixa de variação da saída entre -1 e 1\n",
    "- Normalização das saídas das camadas de neurônios\n",
    "- Melhora a convergência do backpropagation\n",
    "\n",
    "\n",
    "![MLP Tanh](figuras/mlp-tanh.png)"
   ]
  },
  {
   "cell_type": "markdown",
   "metadata": {
    "slideshow": {
     "slide_type": "slide"
    }
   },
   "source": [
    "# Funções de Ativação: ReLU\n",
    "\n",
    "- $ReLU(z) = max(0,z)$. É contínuo porém não é diferenciável em $z = 0$. Entretanto, na prática, funciona muito bem e tem a vantagem de ser muito mais rápido de calcular\n",
    "- O fato de não possuir um limite máximo de saída também ajuda a reduzir alguns problemas com o Gradiente Descendente\n",
    "\n",
    "![MLP ReLU](figuras/mlp-relu.png)"
   ]
  },
  {
   "cell_type": "markdown",
   "metadata": {
    "slideshow": {
     "slide_type": "slide"
    }
   },
   "source": [
    "# Funções de Ativação: SoftMax\n",
    "\n",
    "- Em problemas de classificação a camada de saída é geralmente modificada substituindo as funções de ativação\n",
    "individuais por uma função compartilhada de *softmax*.\n",
    "\n",
    "- A saída de cada neurônio corresponde a probabilidade estimada da classe correspondente\n",
    "    "
   ]
  },
  {
   "cell_type": "markdown",
   "metadata": {
    "slideshow": {
     "slide_type": "slide"
    }
   },
   "source": [
    "# Classificação - Softmax\n",
    "\n",
    "![MLP Softmax](figuras/mlp-softmax.png)"
   ]
  },
  {
   "cell_type": "markdown",
   "metadata": {
    "slideshow": {
     "slide_type": "slide"
    }
   },
   "source": [
    "# MLP - Como Ajustar?\n",
    "\n",
    "- A flexibilidade das redes neurais é também um dos seus principais problemas: muitos hiper-parâmetros para ajustar\n",
    "- Número de camadas escondidas\n",
    "- Número de neurônios em cada camada\n",
    "- Tipo de função de ativação\n",
    "- Lógica de inicialização dos pesos\n",
    "- Taxa de aprendizado"
   ]
  },
  {
   "cell_type": "markdown",
   "metadata": {
    "slideshow": {
     "slide_type": "slide"
    }
   },
   "source": [
    "# MLP - Número de Camadas e de Neurônios\n",
    "\n",
    "- Iniciar com uma simples camada\n",
    "- Número de neurônios igual a metade do número de características de entrada\n",
    "- Aumentar o número de neurônios até que a rede apresente overfitting\n",
    "- Para problemas mais complexos é necessário aumentar o número de camadas escondidas -> Deep Learning"
   ]
  },
  {
   "cell_type": "markdown",
   "metadata": {
    "slideshow": {
     "slide_type": "slide"
    }
   },
   "source": [
    "# MLP - Função de Ativação\n",
    "\n",
    "- Nas camadas escondidas utilize ReLU\n",
    "- Para problemas de classificação utilizar SoftMax na camda de saída\n",
    "- Para problemas de regressão utilizar ReLu"
   ]
  },
  {
   "cell_type": "markdown",
   "metadata": {
    "slideshow": {
     "slide_type": "slide"
    }
   },
   "source": [
    "![TensorFlow](figuras/tensorflow.png)\n",
    "\n",
    "TensorFlow é uma biblioteca de código aberto desenvolvido pelo Google para aprendizado de máquina.\n",
    "\n",
    "Cálculos no TensorFlow são expressos como grafos de fluxo de dados (tensores).\n",
    "\n",
    "É um NumPy com esteróides. Execução distribuída em CPUs e GPUs."
   ]
  },
  {
   "cell_type": "markdown",
   "metadata": {
    "slideshow": {
     "slide_type": "slide"
    }
   },
   "source": [
    "<img src=\"figuras/keras.jpg\" width=\"20%\">\n",
    "\n",
    "Keras é uma API de alto nível para desenvolvimento de redes neurais profundas em Python e capaz de rodar em cima do\n",
    "TensorFlow, CNTK ou Theano.\n",
    "\n",
    "Permite prototipação rápida e fácil e foi desenvolvida com foco na velocidade de experimentação.\n",
    "\n",
    "Suporta redes convolucionárias e recorrentes, assim como combinação das duas."
   ]
  },
  {
   "cell_type": "code",
   "execution_count": 14,
   "metadata": {
    "slideshow": {
     "slide_type": "slide"
    }
   },
   "outputs": [],
   "source": [
    "# MLP - Exemplo"
   ]
  },
  {
   "cell_type": "code",
   "execution_count": 16,
   "metadata": {
    "slideshow": {
     "slide_type": "subslide"
    }
   },
   "outputs": [
    {
     "name": "stdout",
     "output_type": "stream",
     "text": [
      "Requirement already satisfied: tensorflow in /Users/Sato/dev/treinamentos/fundamentos-data-science/env/lib/python3.6/site-packages\n",
      "Requirement already satisfied: tensorflow-tensorboard<0.5.0,>=0.4.0rc1 in /Users/Sato/dev/treinamentos/fundamentos-data-science/env/lib/python3.6/site-packages (from tensorflow)\n",
      "Requirement already satisfied: protobuf>=3.3.0 in /Users/Sato/dev/treinamentos/fundamentos-data-science/env/lib/python3.6/site-packages (from tensorflow)\n",
      "Requirement already satisfied: numpy>=1.12.1 in /Users/Sato/dev/treinamentos/fundamentos-data-science/env/lib/python3.6/site-packages (from tensorflow)\n",
      "Requirement already satisfied: enum34>=1.1.6 in /Users/Sato/dev/treinamentos/fundamentos-data-science/env/lib/python3.6/site-packages (from tensorflow)\n",
      "Requirement already satisfied: six>=1.10.0 in /Users/Sato/dev/treinamentos/fundamentos-data-science/env/lib/python3.6/site-packages (from tensorflow)\n",
      "Requirement already satisfied: wheel>=0.26 in /Users/Sato/dev/treinamentos/fundamentos-data-science/env/lib/python3.6/site-packages (from tensorflow)\n",
      "Requirement already satisfied: werkzeug>=0.11.10 in /Users/Sato/dev/treinamentos/fundamentos-data-science/env/lib/python3.6/site-packages (from tensorflow-tensorboard<0.5.0,>=0.4.0rc1->tensorflow)\n",
      "Requirement already satisfied: markdown>=2.6.8 in /Users/Sato/dev/treinamentos/fundamentos-data-science/env/lib/python3.6/site-packages (from tensorflow-tensorboard<0.5.0,>=0.4.0rc1->tensorflow)\n",
      "Requirement already satisfied: html5lib==0.9999999 in /Users/Sato/dev/treinamentos/fundamentos-data-science/env/lib/python3.6/site-packages (from tensorflow-tensorboard<0.5.0,>=0.4.0rc1->tensorflow)\n",
      "Requirement already satisfied: bleach==1.5.0 in /Users/Sato/dev/treinamentos/fundamentos-data-science/env/lib/python3.6/site-packages (from tensorflow-tensorboard<0.5.0,>=0.4.0rc1->tensorflow)\n",
      "Requirement already satisfied: setuptools in /Users/Sato/dev/treinamentos/fundamentos-data-science/env/lib/python3.6/site-packages (from protobuf>=3.3.0->tensorflow)\n",
      "Requirement already satisfied: keras in /Users/Sato/dev/treinamentos/fundamentos-data-science/env/lib/python3.6/site-packages\n",
      "Requirement already satisfied: six>=1.9.0 in /Users/Sato/dev/treinamentos/fundamentos-data-science/env/lib/python3.6/site-packages (from keras)\n",
      "Requirement already satisfied: pyyaml in /Users/Sato/dev/treinamentos/fundamentos-data-science/env/lib/python3.6/site-packages (from keras)\n",
      "Requirement already satisfied: scipy>=0.14 in /Users/Sato/dev/treinamentos/fundamentos-data-science/env/lib/python3.6/site-packages (from keras)\n",
      "Requirement already satisfied: numpy>=1.9.1 in /Users/Sato/dev/treinamentos/fundamentos-data-science/env/lib/python3.6/site-packages (from keras)\n"
     ]
    }
   ],
   "source": [
    "!pip install tensorflow\n",
    "!pip install keras"
   ]
  },
  {
   "cell_type": "code",
   "execution_count": 29,
   "metadata": {
    "slideshow": {
     "slide_type": "slide"
    }
   },
   "outputs": [],
   "source": [
    "import keras\n",
    "from keras.datasets import mnist\n",
    "from keras.models import Sequential\n",
    "from keras.layers import Dense\n",
    "from keras.optimizers import RMSprop\n",
    "\n",
    "batch_size = 128\n",
    "num_classes = 10\n",
    "epochs = 20\n",
    "\n",
    "(x_train, y_train), (x_test, y_test) = mnist.load_data()\n",
    "\n",
    "x_train = x_train.reshape(60000, 784)\n",
    "x_test = x_test.reshape(10000, 784)\n",
    "x_train = x_train.astype('float32')\n",
    "x_test = x_test.astype('float32')\n",
    "x_train /= 255\n",
    "x_test /= 255\n",
    "\n",
    "y_train = keras.utils.to_categorical(y_train, num_classes)\n",
    "y_test = keras.utils.to_categorical(y_test, num_classes)"
   ]
  },
  {
   "cell_type": "raw",
   "metadata": {
    "slideshow": {
     "slide_type": "slide"
    }
   },
   "source": [
    "model = Sequential()\n",
    "model.add(Dense(512, activation='relu', input_shape=(784,)))\n",
    "model.add(Dense(num_classes, activation='softmax'))\n",
    "\n",
    "model.summary()\n",
    "\n",
    "model.compile(loss='categorical_crossentropy',\n",
    "              optimizer=RMSprop(),\n",
    "              metrics=['accuracy'])\n",
    "\n",
    "history = model.fit(x_train, y_train,\n",
    "                    batch_size=batch_size,\n",
    "                    epochs=epochs,\n",
    "                    verbose=1,\n",
    "                    validation_data=(x_test, y_test))"
   ]
  },
  {
   "cell_type": "code",
   "execution_count": 30,
   "metadata": {
    "slideshow": {
     "slide_type": "slide"
    }
   },
   "outputs": [
    {
     "ename": "RuntimeError",
     "evalue": "You must compile your model before using it.",
     "output_type": "error",
     "traceback": [
      "\u001b[0;31m---------------------------------------------------------------------------\u001b[0m",
      "\u001b[0;31mRuntimeError\u001b[0m                              Traceback (most recent call last)",
      "\u001b[0;32m<ipython-input-30-5b1378f1ac84>\u001b[0m in \u001b[0;36m<module>\u001b[0;34m()\u001b[0m\n\u001b[0;32m----> 1\u001b[0;31m \u001b[0mscore\u001b[0m \u001b[0;34m=\u001b[0m \u001b[0mmodel\u001b[0m\u001b[0;34m.\u001b[0m\u001b[0mevaluate\u001b[0m\u001b[0;34m(\u001b[0m\u001b[0mx_test\u001b[0m\u001b[0;34m,\u001b[0m \u001b[0my_test\u001b[0m\u001b[0;34m,\u001b[0m \u001b[0mverbose\u001b[0m\u001b[0;34m=\u001b[0m\u001b[0;36m0\u001b[0m\u001b[0;34m)\u001b[0m\u001b[0;34m\u001b[0m\u001b[0m\n\u001b[0m\u001b[1;32m      2\u001b[0m \u001b[0mprint\u001b[0m\u001b[0;34m(\u001b[0m\u001b[0;34m'Accuracy:'\u001b[0m\u001b[0;34m,\u001b[0m \u001b[0mscore\u001b[0m\u001b[0;34m[\u001b[0m\u001b[0;36m1\u001b[0m\u001b[0;34m]\u001b[0m\u001b[0;34m)\u001b[0m\u001b[0;34m\u001b[0m\u001b[0m\n",
      "\u001b[0;32m~/dev/treinamentos/fundamentos-data-science/env/lib/python3.6/site-packages/keras/models.py\u001b[0m in \u001b[0;36mevaluate\u001b[0;34m(self, x, y, batch_size, verbose, sample_weight)\u001b[0m\n\u001b[1;32m    987\u001b[0m                                    \u001b[0mbatch_size\u001b[0m\u001b[0;34m=\u001b[0m\u001b[0mbatch_size\u001b[0m\u001b[0;34m,\u001b[0m\u001b[0;34m\u001b[0m\u001b[0m\n\u001b[1;32m    988\u001b[0m                                    \u001b[0mverbose\u001b[0m\u001b[0;34m=\u001b[0m\u001b[0mverbose\u001b[0m\u001b[0;34m,\u001b[0m\u001b[0;34m\u001b[0m\u001b[0m\n\u001b[0;32m--> 989\u001b[0;31m                                    sample_weight=sample_weight)\n\u001b[0m\u001b[1;32m    990\u001b[0m \u001b[0;34m\u001b[0m\u001b[0m\n\u001b[1;32m    991\u001b[0m     \u001b[0;32mdef\u001b[0m \u001b[0mpredict\u001b[0m\u001b[0;34m(\u001b[0m\u001b[0mself\u001b[0m\u001b[0;34m,\u001b[0m \u001b[0mx\u001b[0m\u001b[0;34m,\u001b[0m \u001b[0mbatch_size\u001b[0m\u001b[0;34m=\u001b[0m\u001b[0;36m32\u001b[0m\u001b[0;34m,\u001b[0m \u001b[0mverbose\u001b[0m\u001b[0;34m=\u001b[0m\u001b[0;36m0\u001b[0m\u001b[0;34m)\u001b[0m\u001b[0;34m:\u001b[0m\u001b[0;34m\u001b[0m\u001b[0m\n",
      "\u001b[0;32m~/dev/treinamentos/fundamentos-data-science/env/lib/python3.6/site-packages/keras/engine/training.py\u001b[0m in \u001b[0;36mevaluate\u001b[0;34m(self, x, y, batch_size, verbose, sample_weight, steps)\u001b[0m\n\u001b[1;32m   1727\u001b[0m         \u001b[0;32melse\u001b[0m\u001b[0;34m:\u001b[0m\u001b[0;34m\u001b[0m\u001b[0m\n\u001b[1;32m   1728\u001b[0m             \u001b[0mins\u001b[0m \u001b[0;34m=\u001b[0m \u001b[0mx\u001b[0m \u001b[0;34m+\u001b[0m \u001b[0my\u001b[0m \u001b[0;34m+\u001b[0m \u001b[0msample_weights\u001b[0m\u001b[0;34m\u001b[0m\u001b[0m\n\u001b[0;32m-> 1729\u001b[0;31m         \u001b[0mself\u001b[0m\u001b[0;34m.\u001b[0m\u001b[0m_make_test_function\u001b[0m\u001b[0;34m(\u001b[0m\u001b[0;34m)\u001b[0m\u001b[0;34m\u001b[0m\u001b[0m\n\u001b[0m\u001b[1;32m   1730\u001b[0m         \u001b[0mf\u001b[0m \u001b[0;34m=\u001b[0m \u001b[0mself\u001b[0m\u001b[0;34m.\u001b[0m\u001b[0mtest_function\u001b[0m\u001b[0;34m\u001b[0m\u001b[0m\n\u001b[1;32m   1731\u001b[0m         return self._test_loop(f, ins,\n",
      "\u001b[0;32m~/dev/treinamentos/fundamentos-data-science/env/lib/python3.6/site-packages/keras/engine/training.py\u001b[0m in \u001b[0;36m_make_test_function\u001b[0;34m(self)\u001b[0m\n\u001b[1;32m    999\u001b[0m     \u001b[0;32mdef\u001b[0m \u001b[0m_make_test_function\u001b[0m\u001b[0;34m(\u001b[0m\u001b[0mself\u001b[0m\u001b[0;34m)\u001b[0m\u001b[0;34m:\u001b[0m\u001b[0;34m\u001b[0m\u001b[0m\n\u001b[1;32m   1000\u001b[0m         \u001b[0;32mif\u001b[0m \u001b[0;32mnot\u001b[0m \u001b[0mhasattr\u001b[0m\u001b[0;34m(\u001b[0m\u001b[0mself\u001b[0m\u001b[0;34m,\u001b[0m \u001b[0;34m'test_function'\u001b[0m\u001b[0;34m)\u001b[0m\u001b[0;34m:\u001b[0m\u001b[0;34m\u001b[0m\u001b[0m\n\u001b[0;32m-> 1001\u001b[0;31m             \u001b[0;32mraise\u001b[0m \u001b[0mRuntimeError\u001b[0m\u001b[0;34m(\u001b[0m\u001b[0;34m'You must compile your model before using it.'\u001b[0m\u001b[0;34m)\u001b[0m\u001b[0;34m\u001b[0m\u001b[0m\n\u001b[0m\u001b[1;32m   1002\u001b[0m         \u001b[0;32mif\u001b[0m \u001b[0mself\u001b[0m\u001b[0;34m.\u001b[0m\u001b[0mtest_function\u001b[0m \u001b[0;32mis\u001b[0m \u001b[0;32mNone\u001b[0m\u001b[0;34m:\u001b[0m\u001b[0;34m\u001b[0m\u001b[0m\n\u001b[1;32m   1003\u001b[0m             \u001b[0minputs\u001b[0m \u001b[0;34m=\u001b[0m \u001b[0mself\u001b[0m\u001b[0;34m.\u001b[0m\u001b[0m_feed_inputs\u001b[0m \u001b[0;34m+\u001b[0m \u001b[0mself\u001b[0m\u001b[0;34m.\u001b[0m\u001b[0m_feed_targets\u001b[0m \u001b[0;34m+\u001b[0m \u001b[0mself\u001b[0m\u001b[0;34m.\u001b[0m\u001b[0m_feed_sample_weights\u001b[0m\u001b[0;34m\u001b[0m\u001b[0m\n",
      "\u001b[0;31mRuntimeError\u001b[0m: You must compile your model before using it."
     ]
    }
   ],
   "source": [
    "score = model.evaluate(x_test, y_test, verbose=0)\n",
    "print('Accuracy:', score[1])"
   ]
  },
  {
   "cell_type": "code",
   "execution_count": null,
   "metadata": {},
   "outputs": [],
   "source": []
  }
 ],
 "metadata": {
  "celltoolbar": "Slideshow",
  "kernelspec": {
   "display_name": "Python 3",
   "language": "python",
   "name": "python3"
  },
  "language_info": {
   "codemirror_mode": {
    "name": "ipython",
    "version": 3
   },
   "file_extension": ".py",
   "mimetype": "text/x-python",
   "name": "python",
   "nbconvert_exporter": "python",
   "pygments_lexer": "ipython3",
   "version": "3.6.0"
  }
 },
 "nbformat": 4,
 "nbformat_minor": 2
}
