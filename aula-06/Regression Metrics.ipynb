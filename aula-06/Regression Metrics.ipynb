{
 "cells": [
  {
   "cell_type": "markdown",
   "metadata": {
    "slideshow": {
     "slide_type": "slide"
    }
   },
   "source": [
    "# Fundamentos em Data Science\n",
    "\n",
    "## Métricas para Regressão\n",
    "\n",
    "Fábio Sato - <fabiosato@gmail.com>"
   ]
  },
  {
   "cell_type": "markdown",
   "metadata": {
    "slideshow": {
     "slide_type": "slide"
    }
   },
   "source": [
    "# Erro Médio Absoluto (MAE)\n",
    "\n",
    "O Erro Médio Absoluto (MAE - Mean Absolute Error) é obtido através da soma das diferenças absolutas entre as\n",
    "estimativas e os valores verdadeiros.\n",
    "\n",
    "$$ MAE = \\frac{\\sum_{i=1}^{n}{\\lvert \\widehat{y}_i - y_i \\rvert}}{n}$$\n",
    "\n",
    "Fornece uma medição de quão errados estão as estimativas, mas não dá uma idéia de direção/viés.\n",
    "\n",
    "Um valor igual a 0 indica nenhum erro ou estimativas perfeitas."
   ]
  },
  {
   "cell_type": "markdown",
   "metadata": {
    "slideshow": {
     "slide_type": "slide"
    }
   },
   "source": [
    "# MAE - Exemplo"
   ]
  },
  {
   "cell_type": "code",
   "execution_count": 20,
   "metadata": {
    "slideshow": {
     "slide_type": "slide"
    }
   },
   "outputs": [
    {
     "name": "stdout",
     "output_type": "stream",
     "text": [
      "[-2.52019608 -1.5627451  -1.99960784 -3.81058824 -2.75960784 -3.43490196\n",
      " -2.4066     -6.2698     -3.706      -3.2196    ]\n",
      "MAE: -3.169 (1.245)\n"
     ]
    }
   ],
   "source": [
    "import pandas\n",
    "from sklearn import model_selection\n",
    "from sklearn.ensemble import RandomForestRegressor\n",
    "from sklearn.datasets import load_boston\n",
    "\n",
    "boston = load_boston()\n",
    "\n",
    "X = boston.data\n",
    "y = boston.target\n",
    "\n",
    "kfold = model_selection.KFold(n_splits=10, random_state=1234)\n",
    "\n",
    "model = RandomForestRegressor(n_estimators=10)\n",
    "scoring = 'neg_mean_absolute_error'\n",
    "results = model_selection.cross_val_score(model, X, y, cv=kfold, scoring=scoring)\n",
    "\n",
    "print(results)\n",
    "print(\"MAE: %.3f (%.3f)\" % (results.mean(), results.std()))"
   ]
  },
  {
   "cell_type": "markdown",
   "metadata": {
    "slideshow": {
     "slide_type": "slide"
    }
   },
   "source": [
    "# Erro Médio Quadrático - MSE e RMSE\n",
    "\n",
    "O Erro Médio Quadrático (MSE - Mean Squared Error) assim como o MAE fornece uma idéia da magnitude dos erros\n",
    "\n",
    "RMSE (Root Mean Squared Error): a raiz quadrada do erro quadrático converte as unidades do erro à unidade original da variável alvo.\n",
    "\n",
    "$$ MSE = \\frac{1}{n} \\sum_{i=1}^{n}{(\\mathbf{Y} - \\mathbf{\\widehat{Y}})^2} $$"
   ]
  },
  {
   "cell_type": "code",
   "execution_count": 22,
   "metadata": {
    "slideshow": {
     "slide_type": "slide"
    }
   },
   "outputs": [
    {
     "name": "stdout",
     "output_type": "stream",
     "text": [
      "[ -11.61026275   -5.88680784   -6.13859216  -23.23854902  -11.33661176\n",
      "  -22.06632157   -7.458582   -100.829632    -27.651092    -14.90422   ]\n",
      "MSE: -23.112 (26.888)\n"
     ]
    }
   ],
   "source": [
    "from sklearn import model_selection\n",
    "from sklearn.ensemble import RandomForestRegressor\n",
    "from sklearn.datasets import load_boston\n",
    "\n",
    "boston = load_boston()\n",
    "\n",
    "X = boston.data\n",
    "y = boston.target\n",
    "\n",
    "kfold = model_selection.KFold(n_splits=10, random_state=1234)\n",
    "\n",
    "model = RandomForestRegressor(n_estimators=10)\n",
    "scoring = 'neg_mean_squared_error'\n",
    "results = model_selection.cross_val_score(model, X, y, cv=kfold, scoring=scoring)\n",
    "\n",
    "print(results)\n",
    "print(\"MSE: %.3f (%.3f)\" % (results.mean(), results.std()))"
   ]
  },
  {
   "cell_type": "markdown",
   "metadata": {
    "slideshow": {
     "slide_type": "slide"
    }
   },
   "source": [
    "#  Coeficiente de Determinação - $R^2$\n",
    "\n",
    "O $R^2$ fornece um indicativo da qualidade do ajuste de um conjunto de estimativas aos valores observados.\n",
    "\n",
    "Na literatura estatística $R^2$ é chamado de coeficiente de determinação.\n",
    "\n",
    "Este é um valor que varia entre 0 e 1. 0 representa nenhum ajuste e 1 ajuste perfeito.\n",
    "\n"
   ]
  },
  {
   "cell_type": "markdown",
   "metadata": {
    "slideshow": {
     "slide_type": "slide"
    }
   },
   "source": [
    "#  $R^2$ - Soma Total dos Quadrados\n",
    "\n",
    "Soma total dos quadrados: soma dos quadrados das diferenças entre a média e cada valor observado.\n",
    "\n",
    "$$ SQ_{tot} = \\sum_{i=1}^{n}{(y_i - \\bar{y})^2} $$"
   ]
  },
  {
   "cell_type": "markdown",
   "metadata": {
    "slideshow": {
     "slide_type": "slide"
    }
   },
   "source": [
    "# $R^2$ - Soma dos Quadrados Explicada\n",
    "\n",
    "Indica a diferença entre a média das observações e o valor estimado para cada observação, e soma os respectivos quadrados. Quanto menor for a diferença, maior poder explicativo detém o modelo.\n",
    "$$ SQ_{exp} = \\sum_{i=1}^{n}{(\\hat{y_i} - \\bar{y})^2} $$"
   ]
  },
  {
   "cell_type": "markdown",
   "metadata": {
    "slideshow": {
     "slide_type": "slide"
    }
   },
   "source": [
    "# $R^2$ - Soma dos quadrados dos Resíduos\n",
    "\n",
    "Calcula a parte que não é explicada pelo modelo.\n",
    "\n",
    "$$ SQ_{res} = \\sum_{i=1}^{n}{(y_i - \\hat{y_i})} $$"
   ]
  },
  {
   "cell_type": "markdown",
   "metadata": {
    "slideshow": {
     "slide_type": "slide"
    }
   },
   "source": [
    "# $R^2$ - Fórmulas\n",
    "\n",
    "O $R^2$ pode ser calculado das seguintes formas:\n",
    "\n",
    "$$ R^2 = \\frac{SQ_{exp}}{SQ_{tot}} = 1 - \\frac{SQ_{res}}{SQ_{tot}} $$"
   ]
  },
  {
   "cell_type": "markdown",
   "metadata": {
    "slideshow": {
     "slide_type": "slide"
    }
   },
   "source": [
    "# Exercício\n",
    "\n",
    "Treine o algoritmo de regressão linear para o conjunto de dados Boston utilizando $R^2$ como métrica de treinamento\n",
    "\n",
    "<http://scikit-learn.org/stable/modules/model_evaluation.html#scoring-parameter>"
   ]
  },
  {
   "cell_type": "code",
   "execution_count": 28,
   "metadata": {
    "slideshow": {
     "slide_type": "slide"
    }
   },
   "outputs": [
    {
     "data": {
      "text/plain": [
       "GridSearchCV(cv=10, error_score='raise',\n",
       "       estimator=RandomForestRegressor(bootstrap=True, criterion='mse', max_depth=None,\n",
       "           max_features='auto', max_leaf_nodes=None,\n",
       "           min_impurity_decrease=0.0, min_impurity_split=None,\n",
       "           min_samples_leaf=1, min_samples_split=2,\n",
       "           min_weight_fraction_leaf=0.0, n_estimators=1000, n_jobs=1,\n",
       "           oob_score=False, random_state=None, verbose=0, warm_start=False),\n",
       "       fit_params=None, iid=True, n_jobs=1, param_grid={},\n",
       "       pre_dispatch='2*n_jobs', refit=True, return_train_score='warn',\n",
       "       scoring='r2', verbose=0)"
      ]
     },
     "execution_count": 28,
     "metadata": {},
     "output_type": "execute_result"
    }
   ],
   "source": [
    "from sklearn import model_selection\n",
    "from sklearn.datasets import load_boston\n",
    "from sklearn.ensemble import RandomForestRegressor\n",
    "from sklearn.model_selection import GridSearchCV\n",
    "import matplotlib.pyplot as plt\n",
    "\n",
    "boston = load_boston()\n",
    "\n",
    "X = boston.data\n",
    "y = boston.target\n",
    "\n",
    "kfold = model_selection.KFold(n_splits=10, random_state=1234)\n",
    "\n",
    "model = RandomForestRegressor(n_estimators=1000)\n",
    "scoring = 'r2'\n",
    "\n",
    "cv = GridSearchCV(estimator=model, scoring='r2', cv=10, param_grid={})\n",
    "cv.fit(X, y)"
   ]
  },
  {
   "cell_type": "code",
   "execution_count": 29,
   "metadata": {},
   "outputs": [],
   "source": [
    "y_pred = cv.predict(X)"
   ]
  },
  {
   "cell_type": "code",
   "execution_count": 30,
   "metadata": {},
   "outputs": [
    {
     "data": {
      "text/plain": [
       "<matplotlib.collections.PathCollection at 0x11535f828>"
      ]
     },
     "execution_count": 30,
     "metadata": {},
     "output_type": "execute_result"
    },
    {
     "data": {
      "image/png": "[encoded data removed]",
      "text/plain": [
       "<matplotlib.figure.Figure at 0x1152d7dd8>"
      ]
     },
     "metadata": {},
     "output_type": "display_data"
    }
   ],
   "source": [
    "plt.scatter(y, y_pred)"
   ]
  },
  {
   "cell_type": "code",
   "execution_count": 31,
   "metadata": {},
   "outputs": [
    {
     "name": "stdout",
     "output_type": "stream",
     "text": [
      "0.493360111658\n"
     ]
    }
   ],
   "source": [
    "print(cv.best_score_)"
   ]
  },
  {
   "cell_type": "code",
   "execution_count": null,
   "metadata": {},
   "outputs": [],
   "source": []
  },
  {
   "cell_type": "code",
   "execution_count": null,
   "metadata": {},
   "outputs": [],
   "source": []
  }
 ],
 "metadata": {
  "celltoolbar": "Slideshow",
  "kernelspec": {
   "display_name": "Python 3",
   "language": "python",
   "name": "python3"
  },
  "language_info": {
   "codemirror_mode": {
    "name": "ipython",
    "version": 3
   },
   "file_extension": ".py",
   "mimetype": "text/x-python",
   "name": "python",
   "nbconvert_exporter": "python",
   "pygments_lexer": "ipython3",
   "version": "3.6.0"
  }
 },
 "nbformat": 4,
 "nbformat_minor": 2
}
