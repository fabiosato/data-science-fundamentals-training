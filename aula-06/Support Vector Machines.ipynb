{
 "cells": [
  {
   "cell_type": "markdown",
   "metadata": {
    "slideshow": {
     "slide_type": "slide"
    }
   },
   "source": [
    "# Fundamentos em Data Science\n",
    "\n",
    "## Support Vector Machine\n",
    "\n",
    "Fábio Sato <fabiosato@gmail.com>"
   ]
  },
  {
   "cell_type": "markdown",
   "metadata": {
    "slideshow": {
     "slide_type": "slide"
    }
   },
   "source": [
    "# SVM - Support Vector Machine\n",
    "\n",
    "\n",
    "Uma máquina de vetores de suporte (SVM) é um algoritmo de aprendizado de máquina bastante flexível capaz de resolver problemas lineares e não-lineares de classificação e de regressão.\n",
    "\n",
    "É atualmente um dos algoritmos mais populares e são adequados para modelos complexos com conjuntos de dados pequenos e médios."
   ]
  },
  {
   "cell_type": "markdown",
   "metadata": {
    "slideshow": {
     "slide_type": "slide"
    }
   },
   "source": [
    "# SVM - Classificação Linear \n",
    "\n",
    "Considere as seguintes considerações sobre um exemplo onde dados de duas classes podem ser separados linearmente.\n",
    "\n",
    "![SVM linear](figuras/svm1.png)"
   ]
  },
  {
   "cell_type": "markdown",
   "metadata": {
    "slideshow": {
     "slide_type": "slide"
    }
   },
   "source": [
    "# SVM - Classificação Linear \n",
    "\n",
    "- A linha vermelha separa os dados mas pode não ter bom desempenho/acurácia para novos exemplos.\n",
    "\n",
    "- Diversas linhas podem classificar os dados corretamente.\n",
    "\n",
    "- A linha azul separa os dados e também mantém uma boa distância dos exemplos de treinamento de ambas as classes.\n"
   ]
  },
  {
   "cell_type": "markdown",
   "metadata": {
    "slideshow": {
     "slide_type": "slide"
    }
   },
   "source": [
    "# SVM - Large Margin Classification\n",
    "\n",
    "Um modelo SVM deve produzir uma fronteira linear (hiperplanos) que classifica dados de maneira ótima.\n",
    "\n",
    "Pode-se imaginar o trabalho de um classificador SVM como o de ajustar a rua mais larga possível (linhas tracejadas) entre duas classes.\n",
    "\n",
    "![center SVM 2](figuras/svm2.png)"
   ]
  },
  {
   "cell_type": "markdown",
   "metadata": {
    "slideshow": {
     "slide_type": "slide"
    }
   },
   "source": [
    "# SVM - Support Vectors\n",
    "\n",
    "A melhor fronteira de decisão possível é determinada (\"suportada\") por exemplos localizadas na borda da rua.\n",
    "\n",
    "Estes exemplos são denominados vetores de suporte. A distância entre as bordas da rua é chamada de margem.\n",
    "\n",
    "![150% center SVM Support Vectors](figuras/svm-support-vectors.png)"
   ]
  },
  {
   "cell_type": "markdown",
   "metadata": {
    "slideshow": {
     "slide_type": "slide"
    }
   },
   "source": [
    "# SVM - Hard Margin\n",
    "\n",
    "Hard Margin: exemplos devem se manter fora da \"rua\" e do lado correto da linha\n",
    "\n",
    "Dois problemas com esta abordagem\n",
    "\n",
    "1. Funciona somente para dados que são linearmente separáveis\n",
    "2. O algoritmo se torna muito sensível a outliers"
   ]
  },
  {
   "cell_type": "markdown",
   "metadata": {
    "slideshow": {
     "slide_type": "slide"
    }
   },
   "source": [
    "# SVM - Outliers\n",
    "\n",
    "Considere agora este exemplo onde temos um outlier da classe azul\n",
    "\n",
    "![SVM Outliers](figuras/svm-outliers.png)"
   ]
  },
  {
   "cell_type": "markdown",
   "metadata": {
    "slideshow": {
     "slide_type": "slide"
    }
   },
   "source": [
    "# SVM - Soft Margin\n",
    "\n",
    "Se adotarmos um algoritmo de *hard margin* a fronteira de decisão ficará muito estreita.\n",
    "\n",
    "É melhor utilizar um modelo mais flexível.\n",
    "\n",
    "Soft Marging: determina um bom custo/benefício entre manter a rua o mais larga possível e limitar a violação da margem"
   ]
  },
  {
   "cell_type": "markdown",
   "metadata": {},
   "source": [
    "# SVM - Classificação Não-Linear\n",
    "\n",
    "Mundo real: embora o algoritmo SVM linear seja eficiente e flexível em muitos cenários nossos problemas não são lineares\n",
    "\n",
    "![70% center SVM Non-Linear](figuras/classification-nonlinear.png)"
   ]
  },
  {
   "cell_type": "code",
   "execution_count": null,
   "metadata": {},
   "outputs": [],
   "source": []
  }
 ],
 "metadata": {
  "celltoolbar": "Slideshow",
  "kernelspec": {
   "display_name": "Python 3",
   "language": "python",
   "name": "python3"
  },
  "language_info": {
   "codemirror_mode": {
    "name": "ipython",
    "version": 3
   },
   "file_extension": ".py",
   "mimetype": "text/x-python",
   "name": "python",
   "nbconvert_exporter": "python",
   "pygments_lexer": "ipython3",
   "version": "3.5.2"
  }
 },
 "nbformat": 4,
 "nbformat_minor": 2
}
