{
 "cells": [
  {
   "cell_type": "markdown",
   "metadata": {
    "slideshow": {
     "slide_type": "slide"
    }
   },
   "source": [
    "# Fundamentos em Data Science\n",
    "\n",
    "## Support Vector Machine\n",
    "\n",
    "Fábio Sato <fabiosato@gmail.com>"
   ]
  },
  {
   "cell_type": "markdown",
   "metadata": {
    "slideshow": {
     "slide_type": "slide"
    }
   },
   "source": [
    "# SVM - Support Vector Machine\n",
    "\n",
    "\n",
    "Uma máquina de vetores de suporte (SVM) é um algoritmo de aprendizado de máquina bastante flexível capaz de resolver problemas lineares e não-lineares de classificação e de regressão.\n",
    "\n",
    "É atualmente um dos algoritmos mais populares e são adequados para modelos complexos com conjuntos de dados pequenos e médios."
   ]
  },
  {
   "cell_type": "markdown",
   "metadata": {},
   "source": [
    "# SVM - Classificação Linear \n",
    "\n",
    "Considere as seguintes considerações sobre um exemplo onde dados de duas classes podem ser separados linearmente.\n",
    "\n",
    "- A linha vermelha separa os dados mas pode não ter bom desempenho/acurácia para novos exemplos.\n",
    "\n",
    "- Diversas linhas podem classificar os dados corretamente.\n",
    "\n",
    "- A linha azul separa os dados e também mantém uma boa distância dos exemplos de treinamento de ambas as classes.\n",
    "\n",
    "![SVM linear](figuras/svm1.png)"
   ]
  },
  {
   "cell_type": "markdown",
   "metadata": {
    "slideshow": {
     "slide_type": "slide"
    }
   },
   "source": [
    "# SVM - Large Margin Classification\n",
    "\n",
    "Um modelo SVM deve produzir uma fronteira linear (hiperplanos) que classifica dados de maneira ótima.\n",
    "\n",
    "Pode-se imaginar o trabalho de um classificador SVM como o de ajustar a rua mais larga possível (linhas tracejadas) entre duas classes.\n",
    "\n",
    "![SVM 2](figuras/svm2.png)"
   ]
  },
  {
   "cell_type": "markdown",
   "metadata": {},
   "source": []
  }
 ],
 "metadata": {
  "celltoolbar": "Slideshow",
  "kernelspec": {
   "display_name": "Python 3",
   "language": "python",
   "name": "python3"
  },
  "language_info": {
   "codemirror_mode": {
    "name": "ipython",
    "version": 3
   },
   "file_extension": ".py",
   "mimetype": "text/x-python",
   "name": "python",
   "nbconvert_exporter": "python",
   "pygments_lexer": "ipython3",
   "version": "3.5.2"
  }
 },
 "nbformat": 4,
 "nbformat_minor": 2
}
